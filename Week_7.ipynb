{
  "nbformat": 4,
  "nbformat_minor": 0,
  "metadata": {
    "colab": {
      "provenance": [],
      "authorship_tag": "ABX9TyOywYyp8i5cnYitvOCPkCrf",
      "include_colab_link": true
    },
    "kernelspec": {
      "name": "python3",
      "display_name": "Python 3"
    },
    "language_info": {
      "name": "python"
    }
  },
  "cells": [
    {
      "cell_type": "markdown",
      "metadata": {
        "id": "view-in-github",
        "colab_type": "text"
      },
      "source": [
        "<a href=\"https://colab.research.google.com/github/naveennekkanti1/AP21110010959-CSE336L/blob/main/Week_7.ipynb\" target=\"_parent\"><img src=\"https://colab.research.google.com/assets/colab-badge.svg\" alt=\"Open In Colab\"/></a>"
      ]
    },
    {
      "cell_type": "code",
      "execution_count": null,
      "metadata": {
        "id": "FBKn31PDTWrC"
      },
      "outputs": [],
      "source": [
        "#1.Create a vector (array) of 1XN dimension representing N-dimensional feature vector of a sample. Write a program to compute the mean and variance of the elements present in the array. Comment what the mean and variance of sample represents.##"
      ]
    },
    {
      "cell_type": "code",
      "source": [
        "import numpy as np\n",
        "def compute_mean_and_variance(vector):\n",
        "    mean = np.mean(vector)\n",
        "    variance = np.var(vector)\n",
        "    return mean, variance\n",
        "N = int(input(\"Enter the dimension of the vector: \"))\n",
        "sample_vector = np.zeros((1, N))\n",
        "print(\"Enter the elements of the vector separated by spaces:\")\n",
        "elements = input().split()\n",
        "for i in range(min(N, len(elements))):\n",
        "    sample_vector[0, i] = int(elements[i])\n",
        "mean, variance = compute_mean_and_variance(sample_vector)\n",
        "print(\"Sample Vector:\", sample_vector)\n",
        "print(\"Mean of the sample vector:\", mean)\n",
        "print(\"Variance of the sample vector:\", variance)"
      ],
      "metadata": {
        "colab": {
          "base_uri": "https://localhost:8080/"
        },
        "id": "OzFquWkzYP2s",
        "outputId": "548ce82a-dcaf-4c12-fc6f-151298c7db65"
      },
      "execution_count": null,
      "outputs": [
        {
          "output_type": "stream",
          "name": "stdout",
          "text": [
            "Enter the dimension of the vector: 5\n",
            "Enter the elements of the vector separated by spaces:\n",
            "2 7 10 34 45 \n",
            "Sample Vector: [[ 2.  7. 10. 34. 45.]]\n",
            "Mean of the sample vector: 19.6\n",
            "Variance of the sample vector: 282.64\n"
          ]
        }
      ]
    },
    {
      "cell_type": "code",
      "source": [
        "## Mean: The mean represents the average value of the elements in the sample vector. It gives us an idea of the central tendency of the data. A higher mean indicates that the values tend to be higher on average, while a lower mean indicates lower average values.\n",
        "## Variance: The variance represents the spread or dispersion of the elements in the sample vector. It measures how much the elements deviate from the mean. A higher variance indicates that the data points are spread out over a wider range, while a lower variance indicates that the data points are closer to the mean."
      ],
      "metadata": {
        "id": "6GV92f6kc9hf"
      },
      "execution_count": null,
      "outputs": []
    },
    {
      "cell_type": "code",
      "source": [
        "#2. Create two vectors each of dimension 1XM each representing M-dimensional feature vector of a sample. Write a program to compute the Covariance between them. Comment what Covariance between two vectors represents."
      ],
      "metadata": {
        "id": "rr0ehPH2T1XP"
      },
      "execution_count": null,
      "outputs": []
    },
    {
      "cell_type": "code",
      "source": [
        "import numpy as np\n",
        "def compute_covariance(vector1, vector2):\n",
        "    mean1 = np.mean(vector1)\n",
        "    mean2 = np.mean(vector2)\n",
        "    covariance = np.mean((vector1 - mean1) * (vector2 - mean2))\n",
        "    return covariance\n",
        "N = int(input(\"Enter the dimension of the vectors: \"))\n",
        "print(\"Enter values for the first vector:\")\n",
        "vector1 = np.array([float(input(f\"Enter value {i+1}: \")) for i in range(N)])\n",
        "print(\"Enter values for the second vector:\")\n",
        "vector2 = np.array([float(input(f\"Enter value {i+1}: \")) for i in range(N)])\n",
        "covariance = compute_covariance(vector1, vector2)\n",
        "print(\"Covariance between vector1 and vector2:\", covariance)"
      ],
      "metadata": {
        "colab": {
          "base_uri": "https://localhost:8080/"
        },
        "id": "j34jVUBuY-tT",
        "outputId": "6a4c4ff9-29c1-4b2e-d338-a74d336cf8ab"
      },
      "execution_count": null,
      "outputs": [
        {
          "output_type": "stream",
          "name": "stdout",
          "text": [
            "Enter the dimension of the vectors: 5\n",
            "Enter values for the first vector:\n",
            "Enter value 1: 2\n",
            "Enter value 2: 56\n",
            "Enter value 3: 11\n",
            "Enter value 4: 23\n",
            "Enter value 5: 1\n",
            "Enter values for the second vector:\n",
            "Enter value 1: 9\n",
            "Enter value 2: 43\n",
            "Enter value 3: 2\n",
            "Enter value 4: 1\n",
            "Enter value 5: 10\n",
            "Covariance between vector1 and vector2: 254.4\n"
          ]
        }
      ]
    },
    {
      "cell_type": "code",
      "source": [
        "## The covariance between two vectors represents how much the variables in the vectors change together. If the covariance is positive, it means that when one variable increases, the other tends to increase as well. If it's negative, it means that when one variable increases, the other tends to decrease. If it's close to zero, it means that there's no linear relationship between the variables."
      ],
      "metadata": {
        "id": "arbvgbPjcUia"
      },
      "execution_count": null,
      "outputs": []
    },
    {
      "cell_type": "code",
      "source": [
        "#3.Create two vectors each of dimension 1XN. Write a program to compute the Correlation between them.Comment what the Correlation represents."
      ],
      "metadata": {
        "id": "661zQH8OdU1G"
      },
      "execution_count": null,
      "outputs": []
    },
    {
      "cell_type": "code",
      "source": [
        "import numpy as np\n",
        "def compute_correlation(vector1, vector2):\n",
        "    correlation_coefficient = np.corrcoef(vector1, vector2)[0, 1]\n",
        "    return correlation_coefficient\n",
        "N = int(input(\"Enter the dimension of the vectors: \"))\n",
        "print(\"Enter values for the first vector:\")\n",
        "vector1 = np.array([float(input(f\"Enter value {i+1}: \")) for i in range(N)])\n",
        "print(\"Enter values for the second vector:\")\n",
        "vector2 = np.array([float(input(f\"Enter value {i+1}: \")) for i in range(N)])\n",
        "correlation = compute_correlation(vector1, vector2)\n",
        "print(\"Correlation between vector1 and vector2:\", correlation)\n"
      ],
      "metadata": {
        "colab": {
          "base_uri": "https://localhost:8080/"
        },
        "id": "wpDutSaXd8bd",
        "outputId": "98ca8b07-caaf-4a10-d4bb-c26211814af2"
      },
      "execution_count": null,
      "outputs": [
        {
          "output_type": "stream",
          "name": "stdout",
          "text": [
            "Enter the dimension of the vectors: 3\n",
            "Enter values for the first vector:\n",
            "Enter value 1: 23\n",
            "Enter value 2: 10\n",
            "Enter value 3: 34\n",
            "Enter values for the second vector:\n",
            "Enter value 1: 32\n",
            "Enter value 2: 1\n",
            "Enter value 3: 5\n",
            "Correlation between vector1 and vector2: 0.16618924316197345\n"
          ]
        }
      ]
    },
    {
      "cell_type": "code",
      "source": [
        "# The correlation between two vectors represents the degree to which they are linearly related. It measures the strength and direction of the linear relationship between the variables. If the correlation coefficient is close to 1, it indicates a strong positive linear relationship, meaning that as one variable increases, the other variable tends to increase as well. If it's close to -1, it indicates a strong negative linear relationship, meaning that as one variable increases, the other tends to decrease. If it's close to 0, it indicates little to no linear relationship between the variables."
      ],
      "metadata": {
        "id": "mfVEK9HxeOaj"
      },
      "execution_count": null,
      "outputs": []
    },
    {
      "cell_type": "code",
      "source": [
        "#4.Create a Matrix of MXN dimension representing the M-dimensional feature vector for N number of samples i. e (i,j)th entry of the matrix represents the ith feature of jth sample. Write a program to compute the covariance matrix and correlation matrix. Comment on takeaways from these matrixes."
      ],
      "metadata": {
        "id": "qmUKWMggebJh"
      },
      "execution_count": null,
      "outputs": []
    },
    {
      "cell_type": "code",
      "source": [
        "import numpy as np\n",
        "\n",
        "def compute_covariance_matrix(feature_matrix):\n",
        "    covariance_matrix = np.cov(feature_matrix)\n",
        "    return covariance_matrix\n",
        "def compute_correlation_matrix(feature_matrix):\n",
        "    correlation_matrix = np.corrcoef(feature_matrix)\n",
        "    return correlation_matrix\n",
        "def main():\n",
        "    feature_matrix = np.array([[1, 2, 3],[4, 5, 6],[7, 8, 9]])\n",
        "    covariance_matrix = compute_covariance_matrix(feature_matrix)\n",
        "    print(\"Covariance Matrix:\")\n",
        "    print(covariance_matrix)\n",
        "    correlation_matrix = compute_correlation_matrix(feature_matrix)\n",
        "    print(\"\\nCorrelation Matrix:\")\n",
        "    print(correlation_matrix)\n",
        "if __name__ == \"__main__\":\n",
        "    main()\n"
      ],
      "metadata": {
        "id": "2jvz5TM-eqeh",
        "colab": {
          "base_uri": "https://localhost:8080/"
        },
        "outputId": "18b0879f-e3e1-4a86-ba21-54ccaa475abc"
      },
      "execution_count": 1,
      "outputs": [
        {
          "output_type": "stream",
          "name": "stdout",
          "text": [
            "Covariance Matrix:\n",
            "[[1. 1. 1.]\n",
            " [1. 1. 1.]\n",
            " [1. 1. 1.]]\n",
            "\n",
            "Correlation Matrix:\n",
            "[[1. 1. 1.]\n",
            " [1. 1. 1.]\n",
            " [1. 1. 1.]]\n"
          ]
        }
      ]
    },
    {
      "cell_type": "code",
      "source": [],
      "metadata": {
        "id": "ruvLZ_SROOgm"
      },
      "execution_count": null,
      "outputs": []
    }
  ]
}