{
  "nbformat": 4,
  "nbformat_minor": 0,
  "metadata": {
    "colab": {
      "provenance": [],
      "authorship_tag": "ABX9TyOiO8JGIqs9RmcvTU6av5Ye",
      "include_colab_link": true
    },
    "kernelspec": {
      "name": "python3",
      "display_name": "Python 3"
    },
    "language_info": {
      "name": "python"
    }
  },
  "cells": [
    {
      "cell_type": "markdown",
      "metadata": {
        "id": "view-in-github",
        "colab_type": "text"
      },
      "source": [
        "<a href=\"https://colab.research.google.com/github/naveennekkanti1/AP21110010959-CSE336L/blob/main/Week4.ipynb\" target=\"_parent\"><img src=\"https://colab.research.google.com/assets/colab-badge.svg\" alt=\"Open In Colab\"/></a>"
      ]
    },
    {
      "cell_type": "code",
      "execution_count": 3,
      "metadata": {
        "id": "3A4_y-WsER2V"
      },
      "outputs": [],
      "source": [
        "import numpy as np\n",
        "import pandas as pd"
      ]
    },
    {
      "cell_type": "code",
      "source": [
        "x = np.array([0, 1, 2, 3, 4, 5, 6, 7, 8, 9])\n",
        "y = np.array([1, 3, 2, 5, 7, 8, 8, 9, 10, 12])"
      ],
      "metadata": {
        "id": "_73ENWcyL1zZ"
      },
      "execution_count": 4,
      "outputs": []
    },
    {
      "cell_type": "code",
      "source": [
        "def linear_regression_analytic(x, y):\n",
        "    n = len(x)\n",
        "    x_mean = np.mean(x)\n",
        "    y_mean = np.mean(y)\n",
        "    xy_mean = np.mean(x*y)\n",
        "    x_squared_mean = np.mean(x**2)\n",
        "    b1 = (xy_mean - x_mean*y_mean) / (x_squared_mean - x_mean**2)\n",
        "    b0 = y_mean - b1*x_mean\n",
        "    y_pred = b0 + b1*x\n",
        "    sse = np.sum((y - y_pred)**2)\n",
        "    ss_total = np.sum((y - y_mean)**2)\n",
        "    r_squared = 1 - (sse / ss_total)\n",
        "    return b0, b1, sse, r_squared\n",
        "b0_analytic, b1_analytic, sse_analytic, r_squared_analytic = linear_regression_analytic(x, y)\n",
        "print(\"Analytic Solution:\")\n",
        "print(\"b0:\", b0_analytic)\n",
        "print(\"b1:\", b1_analytic)\n",
        "print(\"SSE:\", sse_analytic)\n",
        "print(\"Rsquare:\", r_squared_analytic)"
      ],
      "metadata": {
        "colab": {
          "base_uri": "https://localhost:8080/"
        },
        "id": "Xc-cZ7FYF5eD",
        "outputId": "422b0aa6-2039-4f88-c4ad-0ab3648c0983"
      },
      "execution_count": 5,
      "outputs": [
        {
          "output_type": "stream",
          "name": "stdout",
          "text": [
            "Analytic Solution:\n",
            "b0: 1.2363636363636372\n",
            "b1: 1.1696969696969695\n",
            "SSE: 5.624242424242422\n",
            "Rsquare: 0.952538038613988\n"
          ]
        }
      ]
    },
    {
      "cell_type": "code",
      "source": [
        "def sum_residual_errors(x, y, b0, b1):\n",
        "    y_pred = b0 + b1 * x\n",
        "    residual_errors = y - y_pred\n",
        "    sum_residual = np.sum(residual_errors)\n",
        "    return sum_residual\n",
        "b0_analytic, b1_analytic, _, _ = linear_regression_analytic(x, y)\n",
        "sum_residual_analytic = sum_residual_errors(x, y, b0_analytic, b1_analytic)\n",
        "print(\"Sum of Residual Errors:\", sum_residual_analytic)"
      ],
      "metadata": {
        "colab": {
          "base_uri": "https://localhost:8080/"
        },
        "id": "-Mo4u9s5MD9C",
        "outputId": "8fd4a48e-184a-4e65-f6fe-c486029b2a73"
      },
      "execution_count": 6,
      "outputs": [
        {
          "output_type": "stream",
          "name": "stdout",
          "text": [
            "Sum of Residual Errors: 2.220446049250313e-15\n"
          ]
        }
      ]
    },
    {
      "cell_type": "code",
      "source": [
        "# Full Batch Gradient descent"
      ],
      "metadata": {
        "id": "BR9wcWc9KTch"
      },
      "execution_count": null,
      "outputs": []
    },
    {
      "cell_type": "code",
      "source": [
        "def full_batch_gradient_descent(x, y, learning_rate=0.01, epochs=1000, tolerance=1e-6):\n",
        "    n = len(x)\n",
        "    b0 = 0\n",
        "    b1 = 0\n",
        "    prev_loss = float('inf')\n",
        "\n",
        "    for epoch in range(epochs):\n",
        "        y_pred = b0 + b1*x\n",
        "\n",
        "        gradient_b0 = (-2/n) * np.sum(y - y_pred)\n",
        "        gradient_b1 = (-2/n) * np.sum((y - y_pred) * x)\n",
        "\n",
        "        b0 -= learning_rate * gradient_b0\n",
        "        b1 -= learning_rate * gradient_b1\n",
        "\n",
        "        loss = np.sum((y - y_pred)**2)\n",
        "\n",
        "        if abs(prev_loss - loss) < tolerance:\n",
        "            break\n",
        "\n",
        "        prev_loss = loss\n",
        "\n",
        "    return b0, b1, loss\n",
        "\n",
        "b0_full, b1_full, sse_full = full_batch_gradient_descent(x, y)\n",
        "print(\"\\nFull-batch Gradient Descent:\")\n",
        "print(\"b0:\", b0_full)\n",
        "print(\"b1:\", b1_full)\n",
        "print(\"SSE:\", sse_full)\n"
      ],
      "metadata": {
        "colab": {
          "base_uri": "https://localhost:8080/"
        },
        "id": "wYybu-nkI1Gf",
        "outputId": "cc618cbe-176f-402b-d18e-69ec0c210feb"
      },
      "execution_count": 7,
      "outputs": [
        {
          "output_type": "stream",
          "name": "stdout",
          "text": [
            "\n",
            "Full-batch Gradient Descent:\n",
            "b0: 1.230898466943318\n",
            "b1: 1.170568526128318\n",
            "SSE: 5.624329890820989\n"
          ]
        }
      ]
    },
    {
      "cell_type": "code",
      "source": [
        "#Stochastic Gradient descent"
      ],
      "metadata": {
        "id": "4tUTmeaOKZDW"
      },
      "execution_count": null,
      "outputs": []
    },
    {
      "cell_type": "code",
      "source": [
        "def stochastic_gradient_descent(x, y, learning_rate=0.01, epochs=1000, tolerance=1e-6):\n",
        "    n = len(x)\n",
        "    b0 = 0\n",
        "    b1 = 0\n",
        "    prev_loss = float('inf')\n",
        "\n",
        "    for epoch in range(epochs):\n",
        "\n",
        "        indices = np.random.permutation(n)\n",
        "        x_shuffled = x[indices]\n",
        "        y_shuffled = y[indices]\n",
        "\n",
        "        for i in range(n):\n",
        "            y_pred = b0 + b1*x_shuffled[i]\n",
        "\n",
        "            gradient_b0 = -2 * (y_shuffled[i] - y_pred)\n",
        "            gradient_b1 = -2 * (y_shuffled[i] - y_pred) * x_shuffled[i]\n",
        "\n",
        "            b0 -= learning_rate * gradient_b0\n",
        "            b1 -= learning_rate * gradient_b1\n",
        "\n",
        "        y_pred = b0 + b1*x\n",
        "        loss = np.sum((y - y_pred)**2)\n",
        "\n",
        "        if abs(prev_loss - loss) < tolerance:\n",
        "            break\n",
        "\n",
        "        prev_loss = loss\n",
        "\n",
        "    return b0, b1, loss\n",
        "\n",
        "\n",
        "b0_stochastic, b1_stochastic, sse_stochastic = stochastic_gradient_descent(x, y)\n",
        "print(\"\\nStochastic Gradient Descent:\")\n",
        "print(\"b0\", b0_stochastic)\n",
        "print(\"b1:\", b1_stochastic)\n",
        "print(\"SSE:\", sse_stochastic)"
      ],
      "metadata": {
        "colab": {
          "base_uri": "https://localhost:8080/"
        },
        "id": "--l2FcgOJyqv",
        "outputId": "2ad02a5f-f627-40f8-94a2-8a446aa9b60a"
      },
      "execution_count": 8,
      "outputs": [
        {
          "output_type": "stream",
          "name": "stdout",
          "text": [
            "\n",
            "Stochastic Gradient Descent:\n",
            "b0 1.2195449952243642\n",
            "b1: 1.276112811745583\n",
            "SSE: 8.693426263925621\n"
          ]
        }
      ]
    },
    {
      "cell_type": "code",
      "source": [
        "# 2 Download Boston Housing Rate Dataset. Analyse the input attributes and find out the attribute that best follow the linear relationship with the output price. Implement both the analytic formulation and gradient descent (Full-batch, stochastic) on LMS loss formulation to compute the coefficients of regression matrix and compare the results.\n"
      ],
      "metadata": {
        "id": "jIdGVeYDKCrB"
      },
      "execution_count": null,
      "outputs": []
    },
    {
      "cell_type": "code",
      "source": [
        "import pandas as pd\n",
        "import numpy as np\n",
        "from sklearn.model_selection import train_test_split\n",
        "\n",
        "housing_data = pd.read_csv(\"/content/housing.csv\")\n",
        "\n",
        "selected_attribute = 'median_income'\n",
        "X = housing_data[selected_attribute].values.reshape(-1, 1)\n",
        "y = housing_data['median_house_value'].values\n",
        "\n",
        "X_train, X_test, y_train, y_test = train_test_split(X, y, test_size=0.2, random_state=42)\n",
        "\n",
        "X_train_with_intercept = np.c_[np.ones(X_train.shape[0]), X_train]\n",
        "X_test_with_intercept = np.c_[np.ones(X_test.shape[0]), X_test]\n",
        "\n",
        "theta_analytic = np.linalg.inv(X_train_with_intercept.T.dot(X_train_with_intercept)).dot(X_train_with_intercept.T).dot(y_train)\n",
        "print(\"Coefficients using Analytic Formulation:\", theta_analytic)\n",
        "\n",
        "def full_batch_gradient_descent(X, y, learning_rate, num_iterations):\n",
        "    theta = np.zeros(X.shape[1])\n",
        "    for _ in range(num_iterations):\n",
        "        y_pred = X.dot(theta)\n",
        "        theta -= (1/len(y)) * learning_rate * X.T.dot(y_pred - y)\n",
        "    return theta\n",
        "\n",
        "learning_rate = 0.01\n",
        "num_iterations = 1000\n",
        "theta_full_batch = full_batch_gradient_descent(X_train_with_intercept, y_train, learning_rate, num_iterations)\n",
        "print(\"Coefficients using Full-batch Gradient Descent:\", theta_full_batch)\n",
        "\n",
        "def stochastic_gradient_descent(X, y, learning_rate, num_iterations):\n",
        "    theta = np.zeros(X.shape[1])\n",
        "    for _ in range(num_iterations):\n",
        "        for i in range(len(y)):\n",
        "            rand_index = np.random.randint(0, len(y))\n",
        "            xi = X[rand_index]\n",
        "            yi = y[rand_index]\n",
        "            y_pred = np.dot(xi, theta)\n",
        "            theta -= learning_rate * xi * (y_pred - yi)\n",
        "    return theta\n",
        "\n",
        "theta_stochastic = stochastic_gradient_descent(X_train_with_intercept, y_train, learning_rate, num_iterations)\n",
        "print(\"Coefficients using Stochastic Gradient Descent:\", theta_stochastic)"
      ],
      "metadata": {
        "id": "xfJkRvVDOenu",
        "colab": {
          "base_uri": "https://localhost:8080/"
        },
        "outputId": "e7a819a7-5d4e-431f-dba0-212a6dd27efc"
      },
      "execution_count": 11,
      "outputs": [
        {
          "output_type": "stream",
          "name": "stdout",
          "text": [
            "Coefficients using Analytic Formulation: [44459.72916908 41933.84939381]\n",
            "Coefficients using Full-batch Gradient Descent: [39148.47787113 43047.96802282]\n",
            "Coefficients using Stochastic Gradient Descent: [39061.86702968 54364.02652317]\n"
          ]
        }
      ]
    },
    {
      "cell_type": "code",
      "source": [
        "\n",
        "y_pred_analytic = X_test_with_intercept.dot(theta_analytic)\n",
        "y_pred_full_batch = X_test_with_intercept.dot(theta_full_batch)\n",
        "y_pred_stochastic = X_test_with_intercept.dot(theta_stochastic)\n",
        "\n",
        "SSE_analytic = np.sum((y - y_pred_analytic) ** 2)\n",
        "SSE_full_batch = np.sum((y - y_pred_full_batch) ** 2)\n",
        "SSE_stochastic = np.sum((y - y_pred_stochastic) ** 2)\n",
        "\n",
        "mean_y = np.mean(y)\n",
        "SST = np.sum((y - mean_y) ** 2)\n",
        "\n",
        "R_squared_analytic = 1 - (SSE_analytic / SST)\n",
        "R_squared_full_batch = 1 - (SSE_full_batch / SST)\n",
        "R_squared_stochastic = 1 - (SSE_stochastic / SST)\n",
        "\n",
        "print(\"SSE and R-squared value:\")\n",
        "print(\"Analytic Formulation: SSE =\", SSE_analytic, \", R-squared =\", R_squared_analytic)\n",
        "print(\"Full-batch Gradient Descent: SSE =\", SSE_full_batch, \", R-squared =\", R_squared_full_batch)\n",
        "print(\"Stochastic Gradient Descent: SSE =\", SSE_stochastic, \", R-squared =\", R_squared_stochastic)\n"
      ],
      "metadata": {
        "id": "Cxncp_LBaJZf"
      },
      "execution_count": null,
      "outputs": []
    }
  ]
}